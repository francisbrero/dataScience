{
 "cells": [
  {
   "cell_type": "code",
   "execution_count": null,
   "metadata": {},
   "outputs": [],
   "source": [
    "%pip install -qU openai ffmpeg-python pyannote.audio python-dotenv"
   ]
  },
  {
   "cell_type": "code",
   "execution_count": null,
   "metadata": {},
   "outputs": [],
   "source": [
    "# Get openai API key from .env file\n",
    "from dotenv import load_dotenv\n",
    "import os\n",
    "load_dotenv()\n",
    "\n",
    "# Load OpenAI API key\n",
    "openai_key = os.getenv(\"OPENAI_API_KEY\")\n",
    "# Get Hugging Face Token\n",
    "HF_AUTH_TOKEN = os.getenv(\"HF_AUTH_TOKEN\")\n",
    "\n",
    "from openai import OpenAI\n",
    "\n",
    "client = OpenAI(\n",
    "  api_key=openai_key\n",
    ")"
   ]
  },
  {
   "cell_type": "code",
   "execution_count": null,
   "metadata": {},
   "outputs": [],
   "source": [
    "# Import libraries\n",
    "import ffmpeg\n",
    "from pyannote.audio import Pipeline\n",
    "\n",
    "# Function to create a 45-second short version of the file\n",
    "def create_short_audio(input_path, output_path=\"short_version.wav\", duration=120):\n",
    "    try:\n",
    "        (\n",
    "            ffmpeg\n",
    "            .input(input_path, t=duration)\n",
    "            .output(output_path)\n",
    "            .run(overwrite_output=True)\n",
    "        )\n",
    "        print(f\"Short version created at {output_path}\")\n",
    "    except Exception as e:\n",
    "        print(\"Error in creating short version:\", e)\n",
    "\n",
    "# Function for speaker diarization and transcription\n",
    "def transcribe_with_speaker_labels(input_path):\n",
    "    # Step 1: Speaker Diarization\n",
    "    pipeline = Pipeline.from_pretrained(\"pyannote/speaker-diarization\", use_auth_token=HF_AUTH_TOKEN)\n",
    "    diarization = pipeline({\"audio\": input_path})\n",
    "    \n",
    "    # Step 2: Process each speaker's segment for transcription\n",
    "    transcript = \"\"\n",
    "    with open(input_path, \"rb\") as audio_file:\n",
    "        for turn, _, speaker in diarization.itertracks(yield_label=True):\n",
    "            audio_file.seek(0)  # Reset audio file pointer for each segment\n",
    "            segment_start = turn.start\n",
    "            segment_end = turn.end\n",
    "\n",
    "            # Extract the segment audio\n",
    "            segment_output = f\"segment_{segment_start:.2f}_{segment_end:.2f}.wav\"\n",
    "            (\n",
    "                ffmpeg\n",
    "                .input(input_path, ss=segment_start, to=segment_end)\n",
    "                .output(segment_output)\n",
    "                .run(overwrite_output=True)\n",
    "            )\n",
    "\n",
    "            # Transcribe segment with the latest Whisper endpoint\n",
    "            with open(segment_output, \"rb\") as segment_file:\n",
    "                try:\n",
    "                    transcription = client.audio.transcriptions.create(\n",
    "                        model=\"whisper-1\", \n",
    "                        file=segment_file,\n",
    "                        response_format=\"text\"\n",
    "                    )\n",
    "                    segment_transcript = transcription\n",
    "                except Exception as e:\n",
    "                    print(\"Error in transcription:\", e)\n",
    "                    segment_transcript = \"\"\n",
    "\n",
    "            # Append speaker labels\n",
    "            transcript += f\"**{speaker}**: {segment_transcript}\\n\\n\"\n",
    "\n",
    "            # delete the segment file\n",
    "            os.remove(segment_output)\n",
    "\n",
    "    return transcript"
   ]
  },
  {
   "cell_type": "code",
   "execution_count": null,
   "metadata": {},
   "outputs": [],
   "source": [
    "# Main execution\n",
    "# Replace 'your_audio_file.wav' with the path to your file\n",
    "input_audio_path = \"../data/scaling_monosemanticity.wav\"\n",
    "short_audio_path = \"../data/short_version.wav\"\n"
   ]
  },
  {
   "cell_type": "code",
   "execution_count": null,
   "metadata": {},
   "outputs": [],
   "source": [
    "\n",
    "# Step 1: Create a 45-second short version\n",
    "create_short_audio(input_audio_path, output_path=short_audio_path)\n"
   ]
  },
  {
   "cell_type": "code",
   "execution_count": null,
   "metadata": {},
   "outputs": [],
   "source": [
    "# Step 2: Transcribe with speaker labels\n",
    "transcript = transcribe_with_speaker_labels(short_audio_path)\n",
    "# print(\"Transcript with Speaker Labels:\\n\", transcript)\n"
   ]
  },
  {
   "cell_type": "code",
   "execution_count": null,
   "metadata": {},
   "outputs": [],
   "source": [
    "# write the transcript to a file\n",
    "with open(\"../data/transcript.txt\", \"w\") as f:\n",
    "    f.write(transcript)"
   ]
  },
  {
   "cell_type": "markdown",
   "metadata": {},
   "source": [
    "# Only run this if you understand you are going to spend $"
   ]
  },
  {
   "cell_type": "code",
   "execution_count": null,
   "metadata": {},
   "outputs": [],
   "source": [
    "# Transcribe with speaker labels the full file\n",
    "transcript = transcribe_with_speaker_labels(input_audio_path)\n",
    "# write the transcript to a file\n",
    "with open(\"../data/transcript_full.txt\", \"w\") as f:\n",
    "    f.write(transcript)"
   ]
  },
  {
   "cell_type": "code",
   "execution_count": null,
   "metadata": {},
   "outputs": [],
   "source": []
  }
 ],
 "metadata": {
  "kernelspec": {
   "display_name": "venv",
   "language": "python",
   "name": "python3"
  },
  "language_info": {
   "codemirror_mode": {
    "name": "ipython",
    "version": 3
   },
   "file_extension": ".py",
   "mimetype": "text/x-python",
   "name": "python",
   "nbconvert_exporter": "python",
   "pygments_lexer": "ipython3",
   "version": "3.12.3"
  }
 },
 "nbformat": 4,
 "nbformat_minor": 2
}
