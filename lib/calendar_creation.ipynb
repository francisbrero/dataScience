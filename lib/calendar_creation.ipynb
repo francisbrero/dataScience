{
 "cells": [
  {
   "cell_type": "code",
   "execution_count": null,
   "metadata": {},
   "outputs": [],
   "source": [
    "%pip install -qU pymupdf openai ics ipywidgets python-dotenv"
   ]
  },
  {
   "cell_type": "code",
   "execution_count": null,
   "metadata": {},
   "outputs": [],
   "source": [
    "# Get OpenAI API key from .env file\n",
    "from dotenv import load_dotenv\n",
    "load_dotenv()\n",
    "import os\n",
    "openai_key = os.getenv(\"OPENAI_API_KEY\")"
   ]
  },
  {
   "cell_type": "code",
   "execution_count": null,
   "metadata": {},
   "outputs": [],
   "source": [
    "# Import necessary libraries\n",
    "import fitz  # PyMuPDF, for PDF parsing\n",
    "import openai  # For OpenAI API (if required)\n",
    "from ics import Calendar, Event\n",
    "from datetime import datetime, timedelta\n",
    "import re\n",
    "from IPython.display import display\n",
    "import ipywidgets as widgets\n",
    "\n"
   ]
  },
  {
   "cell_type": "code",
   "execution_count": null,
   "metadata": {},
   "outputs": [],
   "source": [
    "# Step 1: Prompt user to upload a PDF file with flight information\n",
    "file_upload = widgets.FileUpload(accept='.pdf', multiple=False)\n",
    "display(file_upload)\n"
   ]
  },
  {
   "cell_type": "code",
   "execution_count": null,
   "metadata": {},
   "outputs": [],
   "source": [
    "\n",
    "# Function to save uploaded file\n",
    "def save_uploaded_file(uploaded_file):\n",
    "    file_name = list(uploaded_file.keys())[0]\n",
    "    with open(file_name, 'wb') as f:\n",
    "        f.write(uploaded_file[file_name]['content'])\n",
    "    return file_name\n",
    "\n",
    "# Wait for file upload\n",
    "while not file_upload.value:\n",
    "    pass\n",
    "pdf_file_name = save_uploaded_file(file_upload.value)\n",
    "\n",
    "# Step 2: Parse PDF for flight information\n",
    "def extract_text_from_pdf(pdf_file):\n",
    "    text = \"\"\n",
    "    with fitz.open(pdf_file) as pdf:\n",
    "        for page in pdf:\n",
    "            text += page.get_text()\n",
    "    return text\n",
    "\n",
    "pdf_text = extract_text_from_pdf(pdf_file_name)\n",
    "\n",
    "# Step 3: Use OpenAI model to parse text if necessary\n",
    "# Define the prompt to pass to OpenAI's model\n",
    "def parse_flight_info(text):\n",
    "    openai.api_key = openai_key\n",
    "    prompt = (\n",
    "        \"Extract detailed flight segment information from the following text. \"\n",
    "        \"For each flight segment, provide the airline, flight number, departure date and time, \"\n",
    "        \"arrival date and time, departure airport, and arrival airport.\\n\\n\"\n",
    "        f\"{text}\"\n",
    "    )\n",
    "    response = openai.Completion.create(\n",
    "        engine=\"gpt-4o-mini\",\n",
    "        prompt=prompt,\n",
    "        max_tokens=1500\n",
    "    )\n",
    "    return response.choices[0].text.strip()\n",
    "\n",
    "parsed_info = parse_flight_info(pdf_text)\n",
    "print(\"Parsed Flight Information:\\n\", parsed_info)\n",
    "\n",
    "# Step 4: Generate .ics files for each flight segment\n",
    "def generate_ics_from_parsed_info(parsed_info):\n",
    "    # Split flight information into individual segments if necessary\n",
    "    segments = parsed_info.split(\"Segment\")  # assuming the model separates segments\n",
    "    for i, segment in enumerate(segments):\n",
    "        # Extract relevant details for each segment\n",
    "        match = re.search(\n",
    "            r\"Airline:\\s*(.*?)\\nFlight Number:\\s*(.*?)\\nDeparture Date:\\s*(.*?)\\nDeparture Time:\\s*(.*?)\\n\"\n",
    "            r\"Arrival Date:\\s*(.*?)\\nArrival Time:\\s*(.*?)\\nDeparture Airport:\\s*(.*?)\\nArrival Airport:\\s*(.*?)\",\n",
    "            segment,\n",
    "            re.DOTALL,\n",
    "        )\n",
    "        if not match:\n",
    "            continue  # Skip if no match is found\n",
    "\n",
    "        airline, flight_number, dep_date, dep_time, arr_date, arr_time, dep_airport, arr_airport = match.groups()\n",
    "\n",
    "        # Parse dates and times\n",
    "        departure = datetime.strptime(f\"{dep_date} {dep_time}\", \"%Y-%m-%d %H:%M\")\n",
    "        arrival = datetime.strptime(f\"{arr_date} {arr_time}\", \"%Y-%m-%d %H:%M\")\n",
    "\n",
    "        # Create calendar event for the flight segment\n",
    "        cal = Calendar()\n",
    "        event = Event()\n",
    "        event.name = f\"{airline} Flight {flight_number}\"\n",
    "        event.begin = departure.isoformat()\n",
    "        event.end = arrival.isoformat()\n",
    "        event.location = f\"{dep_airport} to {arr_airport}\"\n",
    "        event.description = f\"Flight {flight_number} with {airline} from {dep_airport} to {arr_airport}.\"\n",
    "\n",
    "        # Add event to calendar and save as .ics\n",
    "        cal.events.add(event)\n",
    "        with open(f\"flight_segment_{i+1}.ics\", \"w\") as f:\n",
    "            f.writelines(cal.serialize_iter())\n",
    "\n",
    "        print(f\".ics file created for flight segment {i+1}\")\n",
    "\n",
    "# Run the function to generate .ics files\n",
    "generate_ics_from_parsed_info(parsed_info)\n"
   ]
  },
  {
   "cell_type": "code",
   "execution_count": null,
   "metadata": {},
   "outputs": [],
   "source": []
  }
 ],
 "metadata": {
  "kernelspec": {
   "display_name": "venv",
   "language": "python",
   "name": "python3"
  },
  "language_info": {
   "codemirror_mode": {
    "name": "ipython",
    "version": 3
   },
   "file_extension": ".py",
   "mimetype": "text/x-python",
   "name": "python",
   "nbconvert_exporter": "python",
   "pygments_lexer": "ipython3",
   "version": "3.12.3"
  }
 },
 "nbformat": 4,
 "nbformat_minor": 2
}
