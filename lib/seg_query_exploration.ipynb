{
 "cells": [
  {
   "cell_type": "code",
   "execution_count": null,
   "metadata": {},
   "outputs": [],
   "source": [
    "import requests\n",
    "from dotenv import load_dotenv\n",
    "load_dotenv()\n",
    "import os"
   ]
  },
  {
   "cell_type": "code",
   "execution_count": null,
   "metadata": {},
   "outputs": [],
   "source": [
    "# get the credentials from our .env file\n",
    "api_key = os.getenv('seg_api_key')\n",
    "cx = os.getenv('seg_cx')\n"
   ]
  },
  {
   "cell_type": "code",
   "execution_count": null,
   "metadata": {},
   "outputs": [],
   "source": [
    "def query_seg(query):\n",
    "  \"\"\"Queries the Google Custom Search Engine API and returns the results.\"\"\"\n",
    "\n",
    "  url = \"https://www.googleapis.com/customsearch/v1?key={}&cx={}&q={}\".format(api_key, cx, query)\n",
    "\n",
    "  response = requests.get(url)\n",
    "\n",
    "  if response.status_code == 200:\n",
    "    results = response.json()[\"items\"]\n",
    "    for result in results:\n",
    "      print(result[\"title\"])\n",
    "      print(result[\"link\"])\n",
    "  else:\n",
    "    print(\"Error: {}\".format(response.status_code))"
   ]
  },
  {
   "cell_type": "code",
   "execution_count": null,
   "metadata": {},
   "outputs": [],
   "source": [
    "query = input(\"Enter a search query: \")\n",
    "query_seg(query)"
   ]
  }
 ],
 "metadata": {
  "kernelspec": {
   "display_name": "Python 3",
   "language": "python",
   "name": "python3"
  },
  "language_info": {
   "codemirror_mode": {
    "name": "ipython",
    "version": 3
   },
   "file_extension": ".py",
   "mimetype": "text/x-python",
   "name": "python",
   "nbconvert_exporter": "python",
   "pygments_lexer": "ipython3",
   "version": "3.11.4"
  }
 },
 "nbformat": 4,
 "nbformat_minor": 2
}
