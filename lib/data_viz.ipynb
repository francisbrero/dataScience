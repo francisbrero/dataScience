{
 "cells": [
  {
   "cell_type": "markdown",
   "metadata": {},
   "source": [
    "Hans Rosling would be proud! This is a scatter plot of the life expectancy and GDP per capita of 142 countries in 2007. The area of each point represents the country's population in 2007. The colors represent the continent.\n",
    "\n",
    "# Let's look at the standard data from the Gapminder project\n"
   ]
  },
  {
   "cell_type": "code",
   "execution_count": null,
   "metadata": {},
   "outputs": [],
   "source": [
    "%pip install -qU plotly_express nbformat"
   ]
  },
  {
   "cell_type": "code",
   "execution_count": null,
   "metadata": {},
   "outputs": [],
   "source": [
    "import plotly_express as px"
   ]
  },
  {
   "cell_type": "code",
   "execution_count": null,
   "metadata": {},
   "outputs": [],
   "source": [
    "px.scatter(px.data.gapminder(), \n",
    "           x=\"gdpPercap\", \n",
    "           y=\"lifeExp\", \n",
    "           animation_frame=\"year\", \n",
    "           animation_group=\"country\",\n",
    "           size=\"pop\", \n",
    "           color=\"country\", \n",
    "           hover_name=\"country\", \n",
    "           log_x = True, \n",
    "           size_max=45, range_x=[100,100000], range_y=[25,90])"
   ]
  },
  {
   "cell_type": "code",
   "execution_count": null,
   "metadata": {},
   "outputs": [],
   "source": [
    "px.data.gapminder().query(\"year==2007\").sort_values(\"pop\", ascending=False).head(10)"
   ]
  },
  {
   "cell_type": "markdown",
   "metadata": {},
   "source": [
    "# Now we can do this with our own data"
   ]
  },
  {
   "cell_type": "code",
   "execution_count": null,
   "metadata": {},
   "outputs": [],
   "source": []
  }
 ],
 "metadata": {
  "kernelspec": {
   "display_name": "Python 3",
   "language": "python",
   "name": "python3"
  },
  "language_info": {
   "codemirror_mode": {
    "name": "ipython",
    "version": 3
   },
   "file_extension": ".py",
   "mimetype": "text/x-python",
   "name": "python",
   "nbconvert_exporter": "python",
   "pygments_lexer": "ipython3",
   "version": "3.11.6"
  }
 },
 "nbformat": 4,
 "nbformat_minor": 2
}
